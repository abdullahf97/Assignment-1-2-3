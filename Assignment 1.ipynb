{
 "cells": [
  {
   "cell_type": "code",
   "execution_count": 1,
   "metadata": {},
   "outputs": [
    {
     "name": "stdout",
     "output_type": "stream",
     "text": [
      "Muhammad Huzaifa\n",
      "Twinkle, twinkle, little star,\n",
      "\tHow I wonder what you are!\n",
      "\t\tUp above the world so high,\n",
      "\t\tLike a diamond in the sky.\n",
      "Twinkle, Twinkle, little star,\n",
      "\tHow I wonder what you are\n",
      "3.7.4 (default, Aug  9 2019, 18:34:13) [MSC v.1915 64 bit (AMD64)]\n",
      "2019-11-28 11:06:01.402860\n",
      "enter the radius of circle10\n",
      "area of circle is :  62.839999999999996\n",
      "First name : Muhammad\n",
      "Last name : Huzaifa\n",
      "Huzaifa Muhammad\n",
      "input number 01 :2\n",
      "input number 02 :4\n",
      "6\n"
     ]
    }
   ],
   "source": [
    "#Abdullah Farooq\n",
    "#ASSIGNMENT 01\n",
    "#Q1\n",
    "print('Twinkle, twinkle, little star,\\n\\tHow I wonder what you are!\\n\\t\\tUp above the world so high,\\n\\t\\tLike a diamond in the sky.\\nTwinkle, Twinkle, little star,\\n\\tHow I wonder what you are')\n",
    "\n",
    "#Q2\n",
    "import sys\n",
    "print(sys.version)\n",
    "\n",
    "#Q3\n",
    "import datetime\n",
    "print(datetime.datetime.today())\n",
    "\n",
    "#Q4\n",
    "input1 = int(input(\"enter the radius of circle\"))\n",
    "print(\"area of circle is : \",2*3.142*input1)\n",
    "\n",
    "#Q5\n",
    "f_name = input(\"First name : \")\n",
    "l_name = input(\"Last name : \")\n",
    "print(l_name + ' ' + f_name)\n",
    "\n",
    "#Q6\n",
    "n1 = int(input(\"input number 01 :\"))\n",
    "n2 = int(input(\"input number 02 :\"))\n",
    "print(n1+n2)\n"
   ]
  },
  {
   "cell_type": "code",
   "execution_count": null,
   "metadata": {},
   "outputs": [],
   "source": []
  }
 ],
 "metadata": {
  "kernelspec": {
   "display_name": "Python 3",
   "language": "python",
   "name": "python3"
  },
  "language_info": {
   "codemirror_mode": {
    "name": "ipython",
    "version": 3
   },
   "file_extension": ".py",
   "mimetype": "text/x-python",
   "name": "python",
   "nbconvert_exporter": "python",
   "pygments_lexer": "ipython3",
   "version": "3.7.4"
  }
 },
 "nbformat": 4,
 "nbformat_minor": 2
}
