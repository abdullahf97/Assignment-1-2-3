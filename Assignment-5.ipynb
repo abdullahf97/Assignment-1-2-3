{
 "cells": [
  {
   "cell_type": "code",
   "execution_count": 7,
   "metadata": {},
   "outputs": [
    {
     "name": "stdout",
     "output_type": "stream",
     "text": [
      "720\n",
      "Upper case: 2\n",
      "lower case:  13\n",
      "2\n",
      "4\n",
      "6\n",
      "8\n",
      "True\n",
      "17 is a prime number\n",
      "['Tomato', 'Apple', 'Milk']\n"
     ]
    }
   ],
   "source": [
    "def fact(n):\n",
    "    if n == 1:\n",
    "        return 1\n",
    "    else:\n",
    "        x = n * fact(n-1)\n",
    "        return x\n",
    "\n",
    "print(fact(6))\n",
    "\n",
    "def Check(string):\n",
    "    upper = 0\n",
    "    lower = 0\n",
    "    for i in string:\n",
    "        if i.isupper():\n",
    "            upper += 1\n",
    "        else:\n",
    "            lower += 1\n",
    "    print('Upper case:',upper)\n",
    "    print('lower case: ',lower)\n",
    "\n",
    "Check('Abdullah Farooq')\n",
    "\n",
    "def Even(list1):\n",
    "    for i in range(len(list1)):\n",
    "        if list1[i] % 2 == 0:\n",
    "            print(list1[i])\n",
    "\n",
    "Even([1,2,3,4,5,6,7,8,9])\n",
    "\n",
    "def Reverse(list2): \n",
    "    return list2[::-1] \n",
    "  \n",
    "def Palindrome(list3): \n",
    "    rev = Reverse(list3) \n",
    "   \n",
    "    if (list3 == rev): \n",
    "        return True\n",
    "    return False\n",
    "   \n",
    "print(Palindrome('civic'))\n",
    "\n",
    "def Prime(num):\n",
    "    if num > 1:  \n",
    "        for i in range(2, num//2): \n",
    "           if (num % i) == 0: \n",
    "               print(num, \"is not a prime number\") \n",
    "               break\n",
    "         \n",
    "        print(num, \"is a prime number\") \n",
    "  \n",
    "\n",
    "Prime(17)\n",
    "\n",
    "def Shoppinglist(*args):\n",
    "    for arg in args:\n",
    "        print(arg)\n",
    "\n",
    "Shoppinglist(['Tomato','Apple','Milk'])\n",
    "\n"
   ]
  },
  {
   "cell_type": "code",
   "execution_count": null,
   "metadata": {},
   "outputs": [],
   "source": []
  }
 ],
 "metadata": {
  "kernelspec": {
   "display_name": "Python 3",
   "language": "python",
   "name": "python3"
  },
  "language_info": {
   "codemirror_mode": {
    "name": "ipython",
    "version": 3
   },
   "file_extension": ".py",
   "mimetype": "text/x-python",
   "name": "python",
   "nbconvert_exporter": "python",
   "pygments_lexer": "ipython3",
   "version": "3.7.1"
  }
 },
 "nbformat": 4,
 "nbformat_minor": 2
}
